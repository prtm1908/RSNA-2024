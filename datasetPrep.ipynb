{
 "cells": [
  {
   "cell_type": "code",
   "execution_count": 1,
   "metadata": {},
   "outputs": [],
   "source": [
    "import pydicom\n",
    "import glob, os\n",
    "import matplotlib.pyplot as plt\n",
    "import pandas as pd\n",
    "import numpy as np\n",
    "import cv2\n",
    "from tqdm import tqdm\n",
    "import re"
   ]
  },
  {
   "cell_type": "code",
   "execution_count": 2,
   "metadata": {},
   "outputs": [],
   "source": [
    "rd = './data'"
   ]
  },
  {
   "cell_type": "code",
   "execution_count": 3,
   "metadata": {},
   "outputs": [],
   "source": [
    "def atoi(text):\n",
    "    return int(text) if text.isdigit() else text\n",
    "\n",
    "def natural_keys(text):\n",
    "    return [ atoi(c) for c in re.split(r'(\\d+)', text) ]"
   ]
  },
  {
   "cell_type": "code",
   "execution_count": 4,
   "metadata": {},
   "outputs": [],
   "source": [
    "dfc = pd.read_csv(f'{rd}/train_label_coordinates.csv')"
   ]
  },
  {
   "cell_type": "code",
   "execution_count": 5,
   "metadata": {},
   "outputs": [
    {
     "data": {
      "text/html": [
       "<div>\n",
       "<style scoped>\n",
       "    .dataframe tbody tr th:only-of-type {\n",
       "        vertical-align: middle;\n",
       "    }\n",
       "\n",
       "    .dataframe tbody tr th {\n",
       "        vertical-align: top;\n",
       "    }\n",
       "\n",
       "    .dataframe thead th {\n",
       "        text-align: right;\n",
       "    }\n",
       "</style>\n",
       "<table border=\"1\" class=\"dataframe\">\n",
       "  <thead>\n",
       "    <tr style=\"text-align: right;\">\n",
       "      <th></th>\n",
       "      <th>study_id</th>\n",
       "      <th>series_id</th>\n",
       "      <th>series_description</th>\n",
       "    </tr>\n",
       "  </thead>\n",
       "  <tbody>\n",
       "    <tr>\n",
       "      <th>0</th>\n",
       "      <td>4003253</td>\n",
       "      <td>702807833</td>\n",
       "      <td>Sagittal T2/STIR</td>\n",
       "    </tr>\n",
       "    <tr>\n",
       "      <th>1</th>\n",
       "      <td>4003253</td>\n",
       "      <td>1054713880</td>\n",
       "      <td>Sagittal T1</td>\n",
       "    </tr>\n",
       "    <tr>\n",
       "      <th>2</th>\n",
       "      <td>4003253</td>\n",
       "      <td>2448190387</td>\n",
       "      <td>Axial T2</td>\n",
       "    </tr>\n",
       "    <tr>\n",
       "      <th>3</th>\n",
       "      <td>4646740</td>\n",
       "      <td>3201256954</td>\n",
       "      <td>Axial T2</td>\n",
       "    </tr>\n",
       "    <tr>\n",
       "      <th>4</th>\n",
       "      <td>4646740</td>\n",
       "      <td>3486248476</td>\n",
       "      <td>Sagittal T1</td>\n",
       "    </tr>\n",
       "  </tbody>\n",
       "</table>\n",
       "</div>"
      ],
      "text/plain": [
       "   study_id   series_id series_description\n",
       "0   4003253   702807833   Sagittal T2/STIR\n",
       "1   4003253  1054713880        Sagittal T1\n",
       "2   4003253  2448190387           Axial T2\n",
       "3   4646740  3201256954           Axial T2\n",
       "4   4646740  3486248476        Sagittal T1"
      ]
     },
     "execution_count": 5,
     "metadata": {},
     "output_type": "execute_result"
    }
   ],
   "source": [
    "df = pd.read_csv(f'{rd}/train_series_descriptions.csv')\n",
    "df.head()"
   ]
  },
  {
   "cell_type": "code",
   "execution_count": 6,
   "metadata": {},
   "outputs": [],
   "source": [
    "def imread_and_imwirte(src_path, dst_path):\n",
    "    dicom_data = pydicom.dcmread(src_path)\n",
    "    image = dicom_data.pixel_array\n",
    "    image = (image - image.min()) / (image.max() - image.min() +1e-6) * 255\n",
    "    img = cv2.resize(image, (512, 512),interpolation=cv2.INTER_CUBIC)\n",
    "    assert img.shape==(512,512)\n",
    "    cv2.imwrite(dst_path, img)"
   ]
  },
  {
   "cell_type": "code",
   "execution_count": 7,
   "metadata": {},
   "outputs": [
    {
     "data": {
      "text/plain": [
       "(array([4003253, 4646740, 7143189], dtype=int64), 1975)"
      ]
     },
     "execution_count": 7,
     "metadata": {},
     "output_type": "execute_result"
    }
   ],
   "source": [
    "st_ids = df['study_id'].unique()\n",
    "st_ids[:3], len(st_ids)"
   ]
  },
  {
   "cell_type": "code",
   "execution_count": 8,
   "metadata": {},
   "outputs": [
    {
     "data": {
      "text/plain": [
       "['Sagittal T2/STIR', 'Sagittal T1', 'Axial T2']"
      ]
     },
     "execution_count": 8,
     "metadata": {},
     "output_type": "execute_result"
    }
   ],
   "source": [
    "desc = list(df['series_description'].unique())\n",
    "desc"
   ]
  },
  {
   "cell_type": "code",
   "execution_count": 9,
   "metadata": {},
   "outputs": [
    {
     "name": "stderr",
     "output_type": "stream",
     "text": [
      "  0%|          | 0/1975 [00:00<?, ?it/s]"
     ]
    },
    {
     "name": "stderr",
     "output_type": "stream",
     "text": [
      " 57%|█████▋    | 1126/1975 [23:26<17:07,  1.21s/it] "
     ]
    },
    {
     "name": "stdout",
     "output_type": "stream",
     "text": [
      "2492114990 Sagittal T1 has no images\n"
     ]
    },
    {
     "name": "stderr",
     "output_type": "stream",
     "text": [
      " 64%|██████▍   | 1272/1975 [26:42<15:04,  1.29s/it]"
     ]
    },
    {
     "name": "stdout",
     "output_type": "stream",
     "text": [
      "2780132468 Sagittal T1 has no images\n"
     ]
    },
    {
     "name": "stderr",
     "output_type": "stream",
     "text": [
      " 70%|██████▉   | 1378/1975 [29:17<12:22,  1.24s/it]"
     ]
    },
    {
     "name": "stdout",
     "output_type": "stream",
     "text": [
      "3008676218 Sagittal T2/STIR has no images\n"
     ]
    },
    {
     "name": "stderr",
     "output_type": "stream",
     "text": [
      "100%|██████████| 1975/1975 [43:39<00:00,  1.33s/it]\n"
     ]
    }
   ],
   "source": [
    "for idx, si in enumerate(tqdm(st_ids, total=len(st_ids))):\n",
    "    pdf = df[df['study_id']==si]\n",
    "    for ds in desc:\n",
    "        ds_ = ds.replace('/', '_')\n",
    "        pdf_ = pdf[pdf['series_description']==ds]\n",
    "        os.makedirs(f'cvt_png/{si}/{ds_}', exist_ok=True)\n",
    "        allimgs = []\n",
    "        for i, row in pdf_.iterrows():\n",
    "            pimgs = glob.glob(f'{rd}/train_images/{row[\"study_id\"]}/{row[\"series_id\"]}/*.dcm')\n",
    "            pimgs = sorted(pimgs, key=natural_keys)\n",
    "            allimgs.extend(pimgs)\n",
    "            \n",
    "        if len(allimgs)==0:\n",
    "            print(si, ds, 'has no images')\n",
    "            continue\n",
    "\n",
    "        if ds == 'Axial T2':\n",
    "            for j, impath in enumerate(allimgs):\n",
    "                dst = f'cvt_png/{si}/{ds}/{j:03d}.png'\n",
    "                imread_and_imwirte(impath, dst)\n",
    "                \n",
    "        elif ds == 'Sagittal T2/STIR':\n",
    "            \n",
    "            step = len(allimgs) / 10.0\n",
    "            st = len(allimgs)/2.0 - 4.0*step\n",
    "            end = len(allimgs)+0.0001\n",
    "            for j, i in enumerate(np.arange(st, end, step)):\n",
    "                dst = f'cvt_png/{si}/{ds_}/{j:03d}.png'\n",
    "                ind2 = max(0, int((i-0.5001).round()))\n",
    "                imread_and_imwirte(allimgs[ind2], dst)\n",
    "                \n",
    "            assert len(glob.glob(f'cvt_png/{si}/{ds_}/*.png'))==10\n",
    "                \n",
    "        elif ds == 'Sagittal T1':\n",
    "            step = len(allimgs) / 10.0\n",
    "            st = len(allimgs)/2.0 - 4.0*step\n",
    "            end = len(allimgs)+0.0001\n",
    "            for j, i in enumerate(np.arange(st, end, step)):\n",
    "                dst = f'cvt_png/{si}/{ds}/{j:03d}.png'\n",
    "                ind2 = max(0, int((i-0.5001).round()))\n",
    "                imread_and_imwirte(allimgs[ind2], dst)\n",
    "                \n",
    "            assert len(glob.glob(f'cvt_png/{si}/{ds}/*.png'))==10"
   ]
  }
 ],
 "metadata": {
  "kernelspec": {
   "display_name": "spine",
   "language": "python",
   "name": "python3"
  },
  "language_info": {
   "codemirror_mode": {
    "name": "ipython",
    "version": 3
   },
   "file_extension": ".py",
   "mimetype": "text/x-python",
   "name": "python",
   "nbconvert_exporter": "python",
   "pygments_lexer": "ipython3",
   "version": "3.11.9"
  }
 },
 "nbformat": 4,
 "nbformat_minor": 2
}
